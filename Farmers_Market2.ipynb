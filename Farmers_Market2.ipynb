{
  "nbformat": 4,
  "nbformat_minor": 0,
  "metadata": {
    "colab": {
      "name": "Farmers Market2.ipynb",
      "provenance": [],
      "collapsed_sections": [],
      "authorship_tag": "ABX9TyN2O/SVb0ntztc4IHSrCVfg",
      "include_colab_link": true
    },
    "kernelspec": {
      "name": "python3",
      "display_name": "Python 3"
    },
    "language_info": {
      "name": "python"
    }
  },
  "cells": [
    {
      "cell_type": "markdown",
      "metadata": {
        "id": "view-in-github",
        "colab_type": "text"
      },
      "source": [
        "<a href=\"https://colab.research.google.com/github/teeloren/CC-Project/blob/main/Farmers_Market2.ipynb\" target=\"_parent\"><img src=\"https://colab.research.google.com/assets/colab-badge.svg\" alt=\"Open In Colab\"/></a>"
      ]
    },
    {
      "cell_type": "code",
      "source": [
        "# Question: Are NYS Farmers Markets serving the communities most in need?\n",
        "\n",
        "# Farmers Market Dataset\n",
        "    # Source: https://data.ny.gov/Economic-Development/Farmers-Markets-in-New-York-State/qq4h-8p86\n",
        "    # Data File Layout: https://data.ny.gov/api/assets/E62C8927-62E5-4D23-A03B-BF9AB1BA006D?download=true\n",
        "    # Data File Summary: https://data.ny.gov/api/assets/52CA6FF7-C560-4635-8B6A-4196A9F1BF93?download=true\n",
        "  \n",
        "# Poverty By County Dataset\n",
        "    # Source: https://www.census.gov/data-tools/demo/saipe/#/?map_geoSelector=aa_c&s_state=36&s_year=2020\n",
        "\n",
        "# Regions of NY Dataset\n",
        "    # Source: https://data.ny.gov/Economic-Development/Labor-Market-Regions/imem-myat"
      ],
      "metadata": {
        "id": "0a3ofjKEZHw_"
      },
      "execution_count": 1,
      "outputs": []
    },
    {
      "cell_type": "code",
      "execution_count": 2,
      "metadata": {
        "id": "hT5D-9mRNkhT"
      },
      "outputs": [],
      "source": [
        "import numpy as np\n",
        "import pandas as pd\n",
        "import matplotlib.pyplot as plt"
      ]
    },
    {
      "cell_type": "code",
      "source": [
        "##### DATASETS #####\n",
        "\n",
        "# Farmers Market [Shape:(579, 20)]\n",
        "dfmarket = pd.read_csv('https://raw.githubusercontent.com/teeloren/CC-Project/main/Farmers__Markets_in_New_York_State%20(1).csv')\n",
        "\n",
        "# County Economic [Shape:(64, 44)]\n",
        "dfcounty = pd.read_csv('https://raw.githubusercontent.com/teeloren/CC-Project/main/SAIPESNC_16MAY22_16_32_58_86.csv')\n",
        "\n",
        "# Regions [Shape:(62,2)]\n",
        "dfreg = pd.read_csv('https://raw.githubusercontent.com/teeloren/CC-Project/main/Labor_Market_Regions.csv')"
      ],
      "metadata": {
        "id": "-yLaQW8Pyd5g"
      },
      "execution_count": 3,
      "outputs": []
    },
    {
      "cell_type": "code",
      "source": [
        "##### CLEANING Farmers Market DATASET ######\n",
        "\n",
        "# Any duplicate values?\n",
        "dfmarket.duplicated().any() #False\n",
        "\n",
        "# Any null values?\n",
        "dfmarket.isnull().values.any()  #True\n",
        "dfmarket.isnull().sum() #2 cols (Market Link: 146)(Operation Season 1)\n",
        "\n",
        "# Cleaning null data found in Market Link and Operation Season columns\n",
        "dfmarket = dfmarket.drop(['Market Link'], axis=1) # dropped Market Link column, not needed for charting \n",
        "\n",
        "# View null rows\n",
        "nullrows = dfmarket[dfmarket['Operation Season'].isna()]\n",
        "\n",
        "# Mode for the null column\n",
        "dfmode =dfmarket['Operation Season'].mode()\n",
        "\n",
        "# Filling null value with column mode\n",
        "dfmarket.fillna(dfmarket['Operation Season'].mode()[0], inplace=True)\n",
        "\n",
        "# Second check - Any null values?\n",
        "dfmarket.isnull().values.any() # now False, replaced with column mode\n",
        "\n",
        "# Dropping columns not needed for analysis\n",
        "dfmarket = dfmarket.drop(['Market Location', 'Address Line 1', 'State','Contact', 'Phone', 'Latitude', 'Longitude', 'Georeference'], axis=1)"
      ],
      "metadata": {
        "id": "TJwaVA6fjMl9"
      },
      "execution_count": 4,
      "outputs": []
    },
    {
      "cell_type": "code",
      "source": [
        "##### CLEANING County DATASET #####\n",
        "\n",
        "# Limiting dataset to only columns needed for analysis\n",
        "dfcounty_data = dfcounty[['State / County Name','All Ages SAIPE Poverty Universe','All Ages in Poverty Count', 'All Ages in Poverty Percent',\n",
        "                   'Median Household Income in Dollars']]\n",
        "\n",
        "# Only reviewing counties, removing rows with data for US and NYS\n",
        "dfcounty_data = dfcounty_data.drop(index=0)\n",
        "dfcounty_data = dfcounty_data.drop(index=1)\n",
        "\n",
        "# Any duplicate values?\n",
        "dfcounty_data.duplicated().any() #False\n",
        "\n",
        "# Any null values?\n",
        "dfcounty_data.isnull().values.any() #False\n",
        "\n",
        "# Changing column Names\n",
        "dfcounty_data.rename(columns = {'State / County Name':'County', 'All Ages SAIPE Poverty Universe':'Total Population', 'All Ages in Poverty Count':'Number in Poverty',\n",
        "                                'All Ages in Poverty Percent':'Percent in Poverty', 'Median Household Income in Dollars':'Median Household Income'}, inplace = True)\n",
        "\n",
        "# reformat Median Household Income, Total Population and Number in Poverty columns to int values\n",
        "dfcounty_data[\"Median Household Income\"] = dfcounty_data[\"Median Household Income\"].str.replace(\"$\",\"\")\n",
        "dfcounty_data[\"Median Household Income\"] = dfcounty_data[\"Median Household Income\"].str.replace(\",\",\"\")\n",
        "dfcounty_data['Median Household Income'] = dfcounty_data['Median Household Income'].astype(int)\n",
        "\n",
        "dfcounty_data[\"Number in Poverty\"] = dfcounty_data[\"Number in Poverty\"].str.replace(\",\",\"\")\n",
        "dfcounty_data['Number in Poverty'] = dfcounty_data['Number in Poverty'].astype(float)\n",
        "\n",
        "dfcounty_data[\"Total Population\"] = dfcounty_data[\"Total Population\"].str.replace(\",\",\"\")\n",
        "dfcounty_data['Total Population'] = dfcounty_data['Total Population'].astype(float)"
      ],
      "metadata": {
        "id": "2npgG4d8AN6A",
        "colab": {
          "base_uri": "https://localhost:8080/"
        },
        "outputId": "ab683069-8973-48d6-8593-00416f4a9fb2"
      },
      "execution_count": 5,
      "outputs": [
        {
          "output_type": "stream",
          "name": "stderr",
          "text": [
            "/usr/local/lib/python3.7/dist-packages/ipykernel_launcher.py:22: FutureWarning: The default value of regex will change from True to False in a future version. In addition, single character regular expressions will *not* be treated as literal strings when regex=True.\n"
          ]
        }
      ]
    },
    {
      "cell_type": "code",
      "source": [
        "##### PREPARE DATASETS FOR MERGE w/FARMERS MARKET DATASET #####\n",
        "\n",
        "# Farmers Market total by County\n",
        "dfmarket_data = dfmarket.County.value_counts()\n",
        "\n",
        "# Convert county to a dataframe\n",
        "dfm = pd.DataFrame(dfmarket_data)\n",
        "\n",
        "# Reset index so county name can be a column\n",
        "dfm = dfm.reset_index()\n",
        "\n",
        "# Rename columns\n",
        "dfm.rename(columns = {'index':'County', 'County':'Farmers Market Count'}, inplace = True)\n",
        "\n",
        "# Reformat County column by adding \"County(NY)\" to all values\n",
        "dfm['County'] = dfm['County'].astype(str) + ' County (NY)'"
      ],
      "metadata": {
        "id": "JGEO3VnAIhJF"
      },
      "execution_count": 6,
      "outputs": []
    },
    {
      "cell_type": "code",
      "source": [
        "##### CLEANING Regions Dataset  #####\n",
        "\n",
        "# Reformat County column by adding \"County(NY)\" to all values\n",
        "dfreg['County'] = dfreg['County'].astype(str) + ' County (NY)'"
      ],
      "metadata": {
        "id": "zhxqX1fy8sp_"
      },
      "execution_count": 7,
      "outputs": []
    },
    {
      "cell_type": "code",
      "source": [
        "##### MERGING Farmers Markerts and County DATASETS #####\n",
        "\n",
        "dfmerge = dfm.merge(dfcounty_data, left_on='County', right_on='County', how='outer')\n",
        "    \n",
        "dfreg_markets = dfreg.merge(dfmerge, left_on='County', right_on='County', how='outer')\n",
        "    # Shape: (62, 7)"
      ],
      "metadata": {
        "id": "Ey39Qv0arCfn"
      },
      "execution_count": 8,
      "outputs": []
    },
    {
      "cell_type": "code",
      "source": [
        "##### CLEANING Merged DATASETS #####\n",
        "\n",
        "# Any null values?\n",
        "dfreg_markets.isnull().values.any() #True \n",
        "\n",
        "# Column name with null values\n",
        "dfreg_markets.isnull().sum() # 1 null value, Farmers Market Count \n",
        "\n",
        "# Any duplicate values?\n",
        "dfreg_markets.duplicated().any() # False\n",
        "\n",
        "# Replace null values with 0 (missing data for # of Farmers Market, wasnt in Farmers Market dataset)\n",
        "dfreg_markets.fillna(0, inplace = True)\n",
        "\n",
        "# Reformat Farmers Market Count column to int values\n",
        "dfreg_markets['Farmers Market Count'] = dfreg_markets['Farmers Market Count'].astype('int')\n"
      ],
      "metadata": {
        "id": "-pBe056A81Cl"
      },
      "execution_count": 9,
      "outputs": []
    },
    {
      "cell_type": "code",
      "source": [
        "##### Statistical Table #####\n",
        "\n",
        "# Numerical columns for stats table\n",
        "stats = dfreg_markets[['Farmers Market Count', 'Total Population','Number in Poverty', 'Percent in Poverty', 'Median Household Income']]\n",
        "\n",
        "# Mean, median, max and min of the columns in the stats list\n",
        "mean = stats.mean().round(1)\n",
        "median = stats.median()\n",
        "max = stats.max()\n",
        "min = stats.min()\n",
        "\n",
        "# Merge column stats into a table\n",
        "stats_table = pd.concat([mean,median, min, max], axis=1)\n",
        "\n",
        "# Renaming table columns\n",
        "stats_table.rename(columns = {0:\"Mean\",1:\"Median\", 2:\"Min\", 3:\"Max\"}, inplace = True)"
      ],
      "metadata": {
        "id": "OwQjJUjHR6pZ"
      },
      "execution_count": 10,
      "outputs": []
    },
    {
      "cell_type": "code",
      "source": [
        "nys_total_pop = dfreg_markets['Total Population'].sum()\n",
        "fm_total = dfreg_markets['Farmers Market Count'].sum()\n",
        "\n",
        "dfreg_markets['Percent of Total Pop'] = (((dfreg_markets['Number in Poverty']/nys_total_pop)*100)/12.7)*100\n",
        "dfreg_markets['Percent of Farmers Market'] = (dfreg_markets['Farmers Market Count']/fm_total)*100\n",
        "\n",
        "\n",
        "regions = dfreg_markets.copy()\n",
        "# regions = regions.drop(['County', 'Percent in Poverty', 'Percent in Poverty(NYS)'], axis=1)\n",
        "\n",
        "\n",
        "\n",
        "nyregions = regions.groupby(regions.Region).sum()\n",
        "nyregions = nyregions.reset_index()\n",
        "nyregions = nyregions.sort_values(by='Farmers Market Count')\n",
        "\n"
      ],
      "metadata": {
        "id": "JL7On1kwSUOT"
      },
      "execution_count": 11,
      "outputs": []
    },
    {
      "cell_type": "code",
      "source": [
        "##### Percentage of NYS Population in Poverty #####\n",
        "\n",
        "total_pop = dfreg_markets[\"Total Population\"].sum()\n",
        "poor = dfreg_markets[\"Number in Poverty\"].sum()\n",
        "non_poor = total_pop - poor\n",
        "\n",
        "nys_pop = [poor,non_poor]\n",
        "pop_labels = 'Poor', \"Non-poor\"\n",
        "explode = (0,0.1)\n",
        "\n",
        "\n",
        "plt.pie(nys_pop,labels=pop_labels, autopct='%1.1f%%' , explode=explode, shadow=True, colors=['#00FF00','#E09F3E'])\n",
        "plt.title('Percentage of NYS Population in Poverty')\n",
        "plt.legend(loc='lower right')\n",
        "plt.show()"
      ],
      "metadata": {
        "colab": {
          "base_uri": "https://localhost:8080/",
          "height": 264
        },
        "id": "e92xvsfwCyVm",
        "outputId": "7f35fc87-32ab-4539-d762-899b93bce8ca"
      },
      "execution_count": 12,
      "outputs": [
        {
          "output_type": "display_data",
          "data": {
            "text/plain": [
              "<Figure size 432x288 with 1 Axes>"
            ],
            "image/png": "[encoded data removed]"
          },
          "metadata": {}
        }
      ]
    },
    {
      "cell_type": "code",
      "source": [
        "##### Breakdown of NYS Population in Poverty by Upstate and Downstate #####\n",
        "\n",
        "downstate = nyregions[(nyregions.Region == \"New York City\") | (nyregions.Region == \"Long Island\") | (nyregions.Region == \"Hudson Valley\")]\n",
        "upstate = nyregions[(nyregions.Region == \"Southern Tier\") | (nyregions.Region == \"Mohawk Valley\") \n",
        "          | (nyregions.Region == \"Central New York\") | (nyregions.Region == \"North Country\")\n",
        "          | (nyregions.Region == \"Finger Lakes\")| (nyregions.Region == \"Western New York\")| (nyregions.Region == \"Capital Region\")]\n",
        "\n",
        "# create double pie chart for upstate/downstate data\n",
        "\n",
        "## Percent of NYS Poor by area\n",
        "downstate_nys_poor = downstate['Percent of Total Pop'].sum()\n",
        "upstate_nys_poor = upstate['Percent of Total Pop'].sum()\n",
        "\n",
        "      # variables for chart\n",
        "area_poor = [downstate_nys_poor,upstate_nys_poor]\n",
        "area_poor_labels = 'Downstate','Upstate'\n",
        "\n",
        "## Number in Poverty by area\n",
        "downstate_num_poverty = downstate['Number in Poverty'].sum()\n",
        "upstate_num_poverty = upstate['Number in Poverty'].sum()\n",
        "\n",
        "      # variables for chart\n",
        "area_num_poverty = [downstate_fm,upstate_fm]\n",
        "area_num_poverty_labels = 'Downstate','Upstate'\n",
        "\n",
        "\n",
        "## Percent of Farmers Market by area\n",
        "downstate_fm = downstate['Percent of Farmers Market'].sum()\n",
        "upstate_fm = upstate['Percent of Farmers Market'].sum()\n",
        "\n",
        "      # variables for chart\n",
        "area_fm = [downstate_fm,upstate_fm]\n",
        "area_fm_labels = 'Downstate','Upstate'\n",
        "\n",
        "## Dual Charts of Percentage of NYS Poor and FM by area\n",
        "fig, axs = plt.subplots(2, 2)\n",
        "\n",
        "axs[0, 0].pie(area_poor, labels=area_poor_labels, autopct='%1.1f%%', shadow=True)\n",
        "\n",
        "axs[0, 1].pie(area_fm, labels=area_fm_labels, autopct='%.0f%%', shadow=True)\n",
        "\n",
        "# plt.show()\n",
        "# title='Percent of NYS Poor by area'\n",
        "#  title='Percent of Farmers Market by area'\n",
        "\n",
        "# # fig, (ax1, ax2) = plt.subplots(1, 2)\n",
        "\n",
        "# # ax1.pie()\n",
        "# # ax2.pie(downstate['Percent of Total Pop'])\n",
        "\n",
        "# # plt.show()\n",
        "\n",
        "\n",
        "# upstate['Percent of Total Pop'].sum()"
      ],
      "metadata": {
        "colab": {
          "base_uri": "https://localhost:8080/",
          "height": 376
        },
        "id": "uCFWTeAkqWAR",
        "outputId": "762dea6e-2cc1-4caf-c96d-7bc3b6ea2c57"
      },
      "execution_count": 13,
      "outputs": [
        {
          "output_type": "execute_result",
          "data": {
            "text/plain": [
              "([<matplotlib.patches.Wedge at 0x7f75fcd9bbd0>,\n",
              "  <matplotlib.patches.Wedge at 0x7f75fcda8850>],\n",
              " [Text(0.5344212311476375, 0.9614540798699872, 'Downstate'),\n",
              "  Text(-0.5344212311476381, -0.9614540798699868, 'Upstate')],\n",
              " [Text(0.2915024897168932, 0.524429498110902, '34%'),\n",
              "  Text(-0.29150248971689346, -0.5244294981109018, '66%')])"
            ]
          },
          "metadata": {},
          "execution_count": 13
        },
        {
          "output_type": "display_data",
          "data": {
            "text/plain": [
              "<Figure size 432x288 with 4 Axes>"
            ],
            "image/png": "[encoded data removed]"
          },
          "metadata": {
            "needs_background": "light"
          }
        }
      ]
    },
    {
      "cell_type": "code",
      "source": [
        "upstate"
      ],
      "metadata": {
        "colab": {
          "base_uri": "https://localhost:8080/",
          "height": 269
        },
        "id": "vzv4Jy_sxD7I",
        "outputId": "cd8358b1-c51f-4601-ba0b-0b3916675998"
      },
      "execution_count": 14,
      "outputs": [
        {
          "output_type": "execute_result",
          "data": {
            "text/plain": [
              "             Region  Farmers Market Count  Total Population  \\\n",
              "8     Southern Tier                    27          592155.0   \n",
              "5     Mohawk Valley                    36          458500.0   \n",
              "1  Central New York                    37          736851.0   \n",
              "7     North Country                    52          381843.0   \n",
              "2      Finger Lakes                    75         1153844.0   \n",
              "9  Western New York                    77         1333537.0   \n",
              "0    Capital Region                    79         1042938.0   \n",
              "\n",
              "   Number in Poverty  Percent in Poverty  Median Household Income  \\\n",
              "8            83690.0               102.8                   450971   \n",
              "5            56966.0                74.1                   344637   \n",
              "1            93215.0                60.8                   306281   \n",
              "7            49763.0                85.1                   398825   \n",
              "2           144842.0               100.7                   540968   \n",
              "9           177970.0                71.1                   269804   \n",
              "0           102434.0                80.4                   546368   \n",
              "\n",
              "   Percent of Total Pop  Percent of Farmers Market  \n",
              "8              3.497640                   4.663212  \n",
              "5              2.380769                   6.217617  \n",
              "1              3.895717                   6.390328  \n",
              "7              2.079736                   8.981002  \n",
              "2              6.053354                  12.953368  \n",
              "9              7.437866                  13.298791  \n",
              "0              4.281005                  13.644214  "
            ],
            "text/html": [
              "\n",
              "  <div id=\"df-c807d481-f87e-4ff1-bb51-44fe3e8b93a9\">\n",
              "    <div class=\"colab-df-container\">\n",
              "      <div>\n",
              "<style scoped>\n",
              "    .dataframe tbody tr th:only-of-type {\n",
              "        vertical-align: middle;\n",
              "    }\n",
              "\n",
              "    .dataframe tbody tr th {\n",
              "        vertical-align: top;\n",
              "    }\n",
              "\n",
              "    .dataframe thead th {\n",
              "        text-align: right;\n",
              "    }\n",
              "</style>\n",
              "<table border=\"1\" class=\"dataframe\">\n",
              "  <thead>\n",
              "    <tr style=\"text-align: right;\">\n",
              "      <th></th>\n",
              "      <th>Region</th>\n",
              "      <th>Farmers Market Count</th>\n",
              "      <th>Total Population</th>\n",
              "      <th>Number in Poverty</th>\n",
              "      <th>Percent in Poverty</th>\n",
              "      <th>Median Household Income</th>\n",
              "      <th>Percent of Total Pop</th>\n",
              "      <th>Percent of Farmers Market</th>\n",
              "    </tr>\n",
              "  </thead>\n",
              "  <tbody>\n",
              "    <tr>\n",
              "      <th>8</th>\n",
              "      <td>Southern Tier</td>\n",
              "      <td>27</td>\n",
              "      <td>592155.0</td>\n",
              "      <td>83690.0</td>\n",
              "      <td>102.8</td>\n",
              "      <td>450971</td>\n",
              "      <td>3.497640</td>\n",
              "      <td>4.663212</td>\n",
              "    </tr>\n",
              "    <tr>\n",
              "      <th>5</th>\n",
              "      <td>Mohawk Valley</td>\n",
              "      <td>36</td>\n",
              "      <td>458500.0</td>\n",
              "      <td>56966.0</td>\n",
              "      <td>74.1</td>\n",
              "      <td>344637</td>\n",
              "      <td>2.380769</td>\n",
              "      <td>6.217617</td>\n",
              "    </tr>\n",
              "    <tr>\n",
              "      <th>1</th>\n",
              "      <td>Central New York</td>\n",
              "      <td>37</td>\n",
              "      <td>736851.0</td>\n",
              "      <td>93215.0</td>\n",
              "      <td>60.8</td>\n",
              "      <td>306281</td>\n",
              "      <td>3.895717</td>\n",
              "      <td>6.390328</td>\n",
              "    </tr>\n",
              "    <tr>\n",
              "      <th>7</th>\n",
              "      <td>North Country</td>\n",
              "      <td>52</td>\n",
              "      <td>381843.0</td>\n",
              "      <td>49763.0</td>\n",
              "      <td>85.1</td>\n",
              "      <td>398825</td>\n",
              "      <td>2.079736</td>\n",
              "      <td>8.981002</td>\n",
              "    </tr>\n",
              "    <tr>\n",
              "      <th>2</th>\n",
              "      <td>Finger Lakes</td>\n",
              "      <td>75</td>\n",
              "      <td>1153844.0</td>\n",
              "      <td>144842.0</td>\n",
              "      <td>100.7</td>\n",
              "      <td>540968</td>\n",
              "      <td>6.053354</td>\n",
              "      <td>12.953368</td>\n",
              "    </tr>\n",
              "    <tr>\n",
              "      <th>9</th>\n",
              "      <td>Western New York</td>\n",
              "      <td>77</td>\n",
              "      <td>1333537.0</td>\n",
              "      <td>177970.0</td>\n",
              "      <td>71.1</td>\n",
              "      <td>269804</td>\n",
              "      <td>7.437866</td>\n",
              "      <td>13.298791</td>\n",
              "    </tr>\n",
              "    <tr>\n",
              "      <th>0</th>\n",
              "      <td>Capital Region</td>\n",
              "      <td>79</td>\n",
              "      <td>1042938.0</td>\n",
              "      <td>102434.0</td>\n",
              "      <td>80.4</td>\n",
              "      <td>546368</td>\n",
              "      <td>4.281005</td>\n",
              "      <td>13.644214</td>\n",
              "    </tr>\n",
              "  </tbody>\n",
              "</table>\n",
              "</div>\n",
              "      <button class=\"colab-df-convert\" onclick=\"convertToInteractive('df-c807d481-f87e-4ff1-bb51-44fe3e8b93a9')\"\n",
              "              title=\"Convert this dataframe to an interactive table.\"\n",
              "              style=\"display:none;\">\n",
              "        \n",
              "  <svg xmlns=\"http://www.w3.org/2000/svg\" height=\"24px\"viewBox=\"0 0 24 24\"\n",
              "       width=\"24px\">\n",
              "    <path d=\"M0 0h24v24H0V0z\" fill=\"none\"/>\n",
              "    <path d=\"M18.56 5.44l.94 2.06.94-2.06 2.06-.94-2.06-.94-.94-2.06-.94 2.06-2.06.94zm-11 1L8.5 8.5l.94-2.06 2.06-.94-2.06-.94L8.5 2.5l-.94 2.06-2.06.94zm10 10l.94 2.06.94-2.06 2.06-.94-2.06-.94-.94-2.06-.94 2.06-2.06.94z\"/><path d=\"M17.41 7.96l-1.37-1.37c-.4-.4-.92-.59-1.43-.59-.52 0-1.04.2-1.43.59L10.3 9.45l-7.72 7.72c-.78.78-.78 2.05 0 2.83L4 21.41c.39.39.9.59 1.41.59.51 0 1.02-.2 1.41-.59l7.78-7.78 2.81-2.81c.8-.78.8-2.07 0-2.86zM5.41 20L4 18.59l7.72-7.72 1.47 1.35L5.41 20z\"/>\n",
              "  </svg>\n",
              "      </button>\n",
              "      \n",
              "  <style>\n",
              "    .colab-df-container {\n",
              "      display:flex;\n",
              "      flex-wrap:wrap;\n",
              "      gap: 12px;\n",
              "    }\n",
              "\n",
              "    .colab-df-convert {\n",
              "      background-color: #E8F0FE;\n",
              "      border: none;\n",
              "      border-radius: 50%;\n",
              "      cursor: pointer;\n",
              "      display: none;\n",
              "      fill: #1967D2;\n",
              "      height: 32px;\n",
              "      padding: 0 0 0 0;\n",
              "      width: 32px;\n",
              "    }\n",
              "\n",
              "    .colab-df-convert:hover {\n",
              "      background-color: #E2EBFA;\n",
              "      box-shadow: 0px 1px 2px rgba(60, 64, 67, 0.3), 0px 1px 3px 1px rgba(60, 64, 67, 0.15);\n",
              "      fill: #174EA6;\n",
              "    }\n",
              "\n",
              "    [theme=dark] .colab-df-convert {\n",
              "      background-color: #3B4455;\n",
              "      fill: #D2E3FC;\n",
              "    }\n",
              "\n",
              "    [theme=dark] .colab-df-convert:hover {\n",
              "      background-color: #434B5C;\n",
              "      box-shadow: 0px 1px 3px 1px rgba(0, 0, 0, 0.15);\n",
              "      filter: drop-shadow(0px 1px 2px rgba(0, 0, 0, 0.3));\n",
              "      fill: #FFFFFF;\n",
              "    }\n",
              "  </style>\n",
              "\n",
              "      <script>\n",
              "        const buttonEl =\n",
              "          document.querySelector('#df-c807d481-f87e-4ff1-bb51-44fe3e8b93a9 button.colab-df-convert');\n",
              "        buttonEl.style.display =\n",
              "          google.colab.kernel.accessAllowed ? 'block' : 'none';\n",
              "\n",
              "        async function convertToInteractive(key) {\n",
              "          const element = document.querySelector('#df-c807d481-f87e-4ff1-bb51-44fe3e8b93a9');\n",
              "          const dataTable =\n",
              "            await google.colab.kernel.invokeFunction('convertToInteractive',\n",
              "                                                     [key], {});\n",
              "          if (!dataTable) return;\n",
              "\n",
              "          const docLinkHtml = 'Like what you see? Visit the ' +\n",
              "            '<a target=\"_blank\" href=https://colab.research.google.com/notebooks/data_table.ipynb>data table notebook</a>'\n",
              "            + ' to learn more about interactive tables.';\n",
              "          element.innerHTML = '';\n",
              "          dataTable['output_type'] = 'display_data';\n",
              "          await google.colab.output.renderOutput(dataTable, element);\n",
              "          const docLink = document.createElement('div');\n",
              "          docLink.innerHTML = docLinkHtml;\n",
              "          element.appendChild(docLink);\n",
              "        }\n",
              "      </script>\n",
              "    </div>\n",
              "  </div>\n",
              "  "
            ]
          },
          "metadata": {},
          "execution_count": 14
        }
      ]
    },
    {
      "cell_type": "code",
      "source": [
        "plt.figure(figsize=(10,5))\n",
        "plt.bar(upstate['Region'],upstate['Total Population'])\n",
        "plt.bar(upstate['Region'],upstate['Number in Poverty'])\n",
        "plt.show()\n",
        "plt.figure(figsize=(15,5))\n",
        "plt.bar(downstate['Region'],downstate['Total Population'])\n",
        "plt.bar(downstate['Region'],downstate['Number in Poverty'])\n",
        "plt.show()\n"
      ],
      "metadata": {
        "colab": {
          "base_uri": "https://localhost:8080/",
          "height": 645
        },
        "id": "0lTaUgm0hGMS",
        "outputId": "c3aa127b-eb9b-4582-d829-48d2832a5770"
      },
      "execution_count": 15,
      "outputs": [
        {
          "output_type": "display_data",
          "data": {
            "text/plain": [
              "<Figure size 720x360 with 1 Axes>"
            ],
            "image/png": "[encoded data removed]"
          },
          "metadata": {
            "needs_background": "light"
          }
        },
        {
          "output_type": "display_data",
          "data": {
            "text/plain": [
              "<Figure size 1080x360 with 1 Axes>"
            ],
            "image/png": "[encoded data removed]"
          },
          "metadata": {
            "needs_background": "light"
          }
        }
      ]
    },
    {
      "cell_type": "code",
      "source": [
        "# sal = data[data['salary'] == '>50K']\n",
        "# high_sal = sal['age']\n",
        "\n",
        "# plt.figure(figsize=(22,14))\n",
        "# plt.hist(high_sal, color='g', edgecolor='k')\n",
        "# plt.rcParams.update({'font.size': 26})\n",
        "# plt.xlabel('Age', )\n",
        "# plt.ylabel('Total')\n",
        "# plt.title('Age of Salary Earners Making 50K+')\n",
        "# plt.ylim(0, 2250)\n",
        "# plt.savefig('foo.png', dpi=300)\n",
        "# plt.grid(True)\n",
        "# plt.show()"
      ],
      "metadata": {
        "id": "3iucsraQsxci"
      },
      "execution_count": 16,
      "outputs": []
    },
    {
      "cell_type": "code",
      "source": [
        "plt.figure(figsize=(20,5))\n",
        "plt.bar(nyregions['Region'],nyregions['Farmers Market Count'], color='g')\n",
        "plt.xlabel('NYS Regions')\n",
        "plt.ylabel('Farmers Market Count')\n",
        "plt.title('Farmers Market Count by NYS Region')\n",
        "plt.show()\n",
        "\n",
        "dfreg_markets['Farmers Market Count'].sum()"
      ],
      "metadata": {
        "colab": {
          "base_uri": "https://localhost:8080/",
          "height": 368
        },
        "id": "0hof4d2JV_Fz",
        "outputId": "1a262edc-2b0f-4e9c-ca8a-3bf59abf2b63"
      },
      "execution_count": 17,
      "outputs": [
        {
          "output_type": "display_data",
          "data": {
            "text/plain": [
              "<Figure size 1440x360 with 1 Axes>"
            ],
            "image/png": "[encoded data removed]"
          },
          "metadata": {
            "needs_background": "light"
          }
        },
        {
          "output_type": "execute_result",
          "data": {
            "text/plain": [
              "579"
            ]
          },
          "metadata": {},
          "execution_count": 17
        }
      ]
    },
    {
      "cell_type": "code",
      "source": [
        "nyregions"
      ],
      "metadata": {
        "colab": {
          "base_uri": "https://localhost:8080/",
          "height": 363
        },
        "id": "9VHvHgIw2AYI",
        "outputId": "e2227ece-2b7e-43c9-c836-854acda26812"
      },
      "execution_count": 18,
      "outputs": [
        {
          "output_type": "execute_result",
          "data": {
            "text/plain": [
              "             Region  Farmers Market Count  Total Population  \\\n",
              "8     Southern Tier                    27          592155.0   \n",
              "4       Long Island                    29         2778054.0   \n",
              "5     Mohawk Valley                    36          458500.0   \n",
              "1  Central New York                    37          736851.0   \n",
              "7     North Country                    52          381843.0   \n",
              "3     Hudson Valley                    58         2253938.0   \n",
              "2      Finger Lakes                    75         1153844.0   \n",
              "9  Western New York                    77         1333537.0   \n",
              "0    Capital Region                    79         1042938.0   \n",
              "6     New York City                   109         8108939.0   \n",
              "\n",
              "   Number in Poverty  Percent in Poverty  Median Household Income  \\\n",
              "8            83690.0               102.8                   450971   \n",
              "4           163320.0                11.8                   231814   \n",
              "5            56966.0                74.1                   344637   \n",
              "1            93215.0                60.8                   306281   \n",
              "7            49763.0                85.1                   398825   \n",
              "3           217446.0                72.0                   590474   \n",
              "2           144842.0               100.7                   540968   \n",
              "9           177970.0                71.1                   269804   \n",
              "0           102434.0                80.4                   546368   \n",
              "6          1311496.0                79.4                   362891   \n",
              "\n",
              "   Percent of Total Pop  Percent of Farmers Market  \n",
              "8              3.497640                   4.663212  \n",
              "4              6.825602                   5.008636  \n",
              "5              2.380769                   6.217617  \n",
              "1              3.895717                   6.390328  \n",
              "7              2.079736                   8.981002  \n",
              "3              9.087679                  10.017271  \n",
              "2              6.053354                  12.953368  \n",
              "9              7.437866                  13.298791  \n",
              "0              4.281005                  13.644214  \n",
              "6             54.811103                  18.825561  "
            ],
            "text/html": [
              "\n",
              "  <div id=\"df-452906aa-b00d-4ec5-b1d6-e80b06e740ba\">\n",
              "    <div class=\"colab-df-container\">\n",
              "      <div>\n",
              "<style scoped>\n",
              "    .dataframe tbody tr th:only-of-type {\n",
              "        vertical-align: middle;\n",
              "    }\n",
              "\n",
              "    .dataframe tbody tr th {\n",
              "        vertical-align: top;\n",
              "    }\n",
              "\n",
              "    .dataframe thead th {\n",
              "        text-align: right;\n",
              "    }\n",
              "</style>\n",
              "<table border=\"1\" class=\"dataframe\">\n",
              "  <thead>\n",
              "    <tr style=\"text-align: right;\">\n",
              "      <th></th>\n",
              "      <th>Region</th>\n",
              "      <th>Farmers Market Count</th>\n",
              "      <th>Total Population</th>\n",
              "      <th>Number in Poverty</th>\n",
              "      <th>Percent in Poverty</th>\n",
              "      <th>Median Household Income</th>\n",
              "      <th>Percent of Total Pop</th>\n",
              "      <th>Percent of Farmers Market</th>\n",
              "    </tr>\n",
              "  </thead>\n",
              "  <tbody>\n",
              "    <tr>\n",
              "      <th>8</th>\n",
              "      <td>Southern Tier</td>\n",
              "      <td>27</td>\n",
              "      <td>592155.0</td>\n",
              "      <td>83690.0</td>\n",
              "      <td>102.8</td>\n",
              "      <td>450971</td>\n",
              "      <td>3.497640</td>\n",
              "      <td>4.663212</td>\n",
              "    </tr>\n",
              "    <tr>\n",
              "      <th>4</th>\n",
              "      <td>Long Island</td>\n",
              "      <td>29</td>\n",
              "      <td>2778054.0</td>\n",
              "      <td>163320.0</td>\n",
              "      <td>11.8</td>\n",
              "      <td>231814</td>\n",
              "      <td>6.825602</td>\n",
              "      <td>5.008636</td>\n",
              "    </tr>\n",
              "    <tr>\n",
              "      <th>5</th>\n",
              "      <td>Mohawk Valley</td>\n",
              "      <td>36</td>\n",
              "      <td>458500.0</td>\n",
              "      <td>56966.0</td>\n",
              "      <td>74.1</td>\n",
              "      <td>344637</td>\n",
              "      <td>2.380769</td>\n",
              "      <td>6.217617</td>\n",
              "    </tr>\n",
              "    <tr>\n",
              "      <th>1</th>\n",
              "      <td>Central New York</td>\n",
              "      <td>37</td>\n",
              "      <td>736851.0</td>\n",
              "      <td>93215.0</td>\n",
              "      <td>60.8</td>\n",
              "      <td>306281</td>\n",
              "      <td>3.895717</td>\n",
              "      <td>6.390328</td>\n",
              "    </tr>\n",
              "    <tr>\n",
              "      <th>7</th>\n",
              "      <td>North Country</td>\n",
              "      <td>52</td>\n",
              "      <td>381843.0</td>\n",
              "      <td>49763.0</td>\n",
              "      <td>85.1</td>\n",
              "      <td>398825</td>\n",
              "      <td>2.079736</td>\n",
              "      <td>8.981002</td>\n",
              "    </tr>\n",
              "    <tr>\n",
              "      <th>3</th>\n",
              "      <td>Hudson Valley</td>\n",
              "      <td>58</td>\n",
              "      <td>2253938.0</td>\n",
              "      <td>217446.0</td>\n",
              "      <td>72.0</td>\n",
              "      <td>590474</td>\n",
              "      <td>9.087679</td>\n",
              "      <td>10.017271</td>\n",
              "    </tr>\n",
              "    <tr>\n",
              "      <th>2</th>\n",
              "      <td>Finger Lakes</td>\n",
              "      <td>75</td>\n",
              "      <td>1153844.0</td>\n",
              "      <td>144842.0</td>\n",
              "      <td>100.7</td>\n",
              "      <td>540968</td>\n",
              "      <td>6.053354</td>\n",
              "      <td>12.953368</td>\n",
              "    </tr>\n",
              "    <tr>\n",
              "      <th>9</th>\n",
              "      <td>Western New York</td>\n",
              "      <td>77</td>\n",
              "      <td>1333537.0</td>\n",
              "      <td>177970.0</td>\n",
              "      <td>71.1</td>\n",
              "      <td>269804</td>\n",
              "      <td>7.437866</td>\n",
              "      <td>13.298791</td>\n",
              "    </tr>\n",
              "    <tr>\n",
              "      <th>0</th>\n",
              "      <td>Capital Region</td>\n",
              "      <td>79</td>\n",
              "      <td>1042938.0</td>\n",
              "      <td>102434.0</td>\n",
              "      <td>80.4</td>\n",
              "      <td>546368</td>\n",
              "      <td>4.281005</td>\n",
              "      <td>13.644214</td>\n",
              "    </tr>\n",
              "    <tr>\n",
              "      <th>6</th>\n",
              "      <td>New York City</td>\n",
              "      <td>109</td>\n",
              "      <td>8108939.0</td>\n",
              "      <td>1311496.0</td>\n",
              "      <td>79.4</td>\n",
              "      <td>362891</td>\n",
              "      <td>54.811103</td>\n",
              "      <td>18.825561</td>\n",
              "    </tr>\n",
              "  </tbody>\n",
              "</table>\n",
              "</div>\n",
              "      <button class=\"colab-df-convert\" onclick=\"convertToInteractive('df-452906aa-b00d-4ec5-b1d6-e80b06e740ba')\"\n",
              "              title=\"Convert this dataframe to an interactive table.\"\n",
              "              style=\"display:none;\">\n",
              "        \n",
              "  <svg xmlns=\"http://www.w3.org/2000/svg\" height=\"24px\"viewBox=\"0 0 24 24\"\n",
              "       width=\"24px\">\n",
              "    <path d=\"M0 0h24v24H0V0z\" fill=\"none\"/>\n",
              "    <path d=\"M18.56 5.44l.94 2.06.94-2.06 2.06-.94-2.06-.94-.94-2.06-.94 2.06-2.06.94zm-11 1L8.5 8.5l.94-2.06 2.06-.94-2.06-.94L8.5 2.5l-.94 2.06-2.06.94zm10 10l.94 2.06.94-2.06 2.06-.94-2.06-.94-.94-2.06-.94 2.06-2.06.94z\"/><path d=\"M17.41 7.96l-1.37-1.37c-.4-.4-.92-.59-1.43-.59-.52 0-1.04.2-1.43.59L10.3 9.45l-7.72 7.72c-.78.78-.78 2.05 0 2.83L4 21.41c.39.39.9.59 1.41.59.51 0 1.02-.2 1.41-.59l7.78-7.78 2.81-2.81c.8-.78.8-2.07 0-2.86zM5.41 20L4 18.59l7.72-7.72 1.47 1.35L5.41 20z\"/>\n",
              "  </svg>\n",
              "      </button>\n",
              "      \n",
              "  <style>\n",
              "    .colab-df-container {\n",
              "      display:flex;\n",
              "      flex-wrap:wrap;\n",
              "      gap: 12px;\n",
              "    }\n",
              "\n",
              "    .colab-df-convert {\n",
              "      background-color: #E8F0FE;\n",
              "      border: none;\n",
              "      border-radius: 50%;\n",
              "      cursor: pointer;\n",
              "      display: none;\n",
              "      fill: #1967D2;\n",
              "      height: 32px;\n",
              "      padding: 0 0 0 0;\n",
              "      width: 32px;\n",
              "    }\n",
              "\n",
              "    .colab-df-convert:hover {\n",
              "      background-color: #E2EBFA;\n",
              "      box-shadow: 0px 1px 2px rgba(60, 64, 67, 0.3), 0px 1px 3px 1px rgba(60, 64, 67, 0.15);\n",
              "      fill: #174EA6;\n",
              "    }\n",
              "\n",
              "    [theme=dark] .colab-df-convert {\n",
              "      background-color: #3B4455;\n",
              "      fill: #D2E3FC;\n",
              "    }\n",
              "\n",
              "    [theme=dark] .colab-df-convert:hover {\n",
              "      background-color: #434B5C;\n",
              "      box-shadow: 0px 1px 3px 1px rgba(0, 0, 0, 0.15);\n",
              "      filter: drop-shadow(0px 1px 2px rgba(0, 0, 0, 0.3));\n",
              "      fill: #FFFFFF;\n",
              "    }\n",
              "  </style>\n",
              "\n",
              "      <script>\n",
              "        const buttonEl =\n",
              "          document.querySelector('#df-452906aa-b00d-4ec5-b1d6-e80b06e740ba button.colab-df-convert');\n",
              "        buttonEl.style.display =\n",
              "          google.colab.kernel.accessAllowed ? 'block' : 'none';\n",
              "\n",
              "        async function convertToInteractive(key) {\n",
              "          const element = document.querySelector('#df-452906aa-b00d-4ec5-b1d6-e80b06e740ba');\n",
              "          const dataTable =\n",
              "            await google.colab.kernel.invokeFunction('convertToInteractive',\n",
              "                                                     [key], {});\n",
              "          if (!dataTable) return;\n",
              "\n",
              "          const docLinkHtml = 'Like what you see? Visit the ' +\n",
              "            '<a target=\"_blank\" href=https://colab.research.google.com/notebooks/data_table.ipynb>data table notebook</a>'\n",
              "            + ' to learn more about interactive tables.';\n",
              "          element.innerHTML = '';\n",
              "          dataTable['output_type'] = 'display_data';\n",
              "          await google.colab.output.renderOutput(dataTable, element);\n",
              "          const docLink = document.createElement('div');\n",
              "          docLink.innerHTML = docLinkHtml;\n",
              "          element.appendChild(docLink);\n",
              "        }\n",
              "      </script>\n",
              "    </div>\n",
              "  </div>\n",
              "  "
            ]
          },
          "metadata": {},
          "execution_count": 18
        }
      ]
    },
    {
      "cell_type": "code",
      "source": [
        "\n",
        "plt.boxplot(nyregions['Percent in Poverty(NYS)'])\n",
        "plt.show()\n",
        "plt.pie(nyregions['Percent of Farmers Market'])\n",
        "plt.show()\n",
        "plt.pie(nyregions['Percent in Poverty(NYS)'])\n",
        "plt.legend(loc=\"upper left\")\n",
        "plt.show()\n",
        "plt.title('')"
      ],
      "metadata": {
        "colab": {
          "base_uri": "https://localhost:8080/",
          "height": 528
        },
        "id": "ZbKJ8YuX4pr2",
        "outputId": "5a9a5402-a54f-4592-c39a-317fbb0db01e"
      },
      "execution_count": 19,
      "outputs": [
        {
          "output_type": "error",
          "ename": "KeyError",
          "evalue": "ignored",
          "traceback": [
            "\u001b[0;31m---------------------------------------------------------------------------\u001b[0m",
            "\u001b[0;31mKeyError\u001b[0m                                  Traceback (most recent call last)",
            "\u001b[0;32m/usr/local/lib/python3.7/dist-packages/pandas/core/indexes/base.py\u001b[0m in \u001b[0;36mget_loc\u001b[0;34m(self, key, method, tolerance)\u001b[0m\n\u001b[1;32m   3360\u001b[0m             \u001b[0;32mtry\u001b[0m\u001b[0;34m:\u001b[0m\u001b[0;34m\u001b[0m\u001b[0;34m\u001b[0m\u001b[0m\n\u001b[0;32m-> 3361\u001b[0;31m                 \u001b[0;32mreturn\u001b[0m \u001b[0mself\u001b[0m\u001b[0;34m.\u001b[0m\u001b[0m_engine\u001b[0m\u001b[0;34m.\u001b[0m\u001b[0mget_loc\u001b[0m\u001b[0;34m(\u001b[0m\u001b[0mcasted_key\u001b[0m\u001b[0;34m)\u001b[0m\u001b[0;34m\u001b[0m\u001b[0;34m\u001b[0m\u001b[0m\n\u001b[0m\u001b[1;32m   3362\u001b[0m             \u001b[0;32mexcept\u001b[0m \u001b[0mKeyError\u001b[0m \u001b[0;32mas\u001b[0m \u001b[0merr\u001b[0m\u001b[0;34m:\u001b[0m\u001b[0;34m\u001b[0m\u001b[0;34m\u001b[0m\u001b[0m\n",
            "\u001b[0;32m/usr/local/lib/python3.7/dist-packages/pandas/_libs/index.pyx\u001b[0m in \u001b[0;36mpandas._libs.index.IndexEngine.get_loc\u001b[0;34m()\u001b[0m\n",
            "\u001b[0;32m/usr/local/lib/python3.7/dist-packages/pandas/_libs/index.pyx\u001b[0m in \u001b[0;36mpandas._libs.index.IndexEngine.get_loc\u001b[0;34m()\u001b[0m\n",
            "\u001b[0;32mpandas/_libs/hashtable_class_helper.pxi\u001b[0m in \u001b[0;36mpandas._libs.hashtable.PyObjectHashTable.get_item\u001b[0;34m()\u001b[0m\n",
            "\u001b[0;32mpandas/_libs/hashtable_class_helper.pxi\u001b[0m in \u001b[0;36mpandas._libs.hashtable.PyObjectHashTable.get_item\u001b[0;34m()\u001b[0m\n",
            "\u001b[0;31mKeyError\u001b[0m: 'Percent in Poverty(NYS)'",
            "\nThe above exception was the direct cause of the following exception:\n",
            "\u001b[0;31mKeyError\u001b[0m                                  Traceback (most recent call last)",
            "\u001b[0;32m<ipython-input-19-cf3dfffa8225>\u001b[0m in \u001b[0;36m<module>\u001b[0;34m()\u001b[0m\n\u001b[1;32m      1\u001b[0m \u001b[0;34m\u001b[0m\u001b[0m\n\u001b[0;32m----> 2\u001b[0;31m \u001b[0mplt\u001b[0m\u001b[0;34m.\u001b[0m\u001b[0mboxplot\u001b[0m\u001b[0;34m(\u001b[0m\u001b[0mnyregions\u001b[0m\u001b[0;34m[\u001b[0m\u001b[0;34m'Percent in Poverty(NYS)'\u001b[0m\u001b[0;34m]\u001b[0m\u001b[0;34m)\u001b[0m\u001b[0;34m\u001b[0m\u001b[0;34m\u001b[0m\u001b[0m\n\u001b[0m\u001b[1;32m      3\u001b[0m \u001b[0mplt\u001b[0m\u001b[0;34m.\u001b[0m\u001b[0mshow\u001b[0m\u001b[0;34m(\u001b[0m\u001b[0;34m)\u001b[0m\u001b[0;34m\u001b[0m\u001b[0;34m\u001b[0m\u001b[0m\n\u001b[1;32m      4\u001b[0m \u001b[0mplt\u001b[0m\u001b[0;34m.\u001b[0m\u001b[0mpie\u001b[0m\u001b[0;34m(\u001b[0m\u001b[0mnyregions\u001b[0m\u001b[0;34m[\u001b[0m\u001b[0;34m'Percent of Farmers Market'\u001b[0m\u001b[0;34m]\u001b[0m\u001b[0;34m)\u001b[0m\u001b[0;34m\u001b[0m\u001b[0;34m\u001b[0m\u001b[0m\n\u001b[1;32m      5\u001b[0m \u001b[0mplt\u001b[0m\u001b[0;34m.\u001b[0m\u001b[0mshow\u001b[0m\u001b[0;34m(\u001b[0m\u001b[0;34m)\u001b[0m\u001b[0;34m\u001b[0m\u001b[0;34m\u001b[0m\u001b[0m\n",
            "\u001b[0;32m/usr/local/lib/python3.7/dist-packages/pandas/core/frame.py\u001b[0m in \u001b[0;36m__getitem__\u001b[0;34m(self, key)\u001b[0m\n\u001b[1;32m   3456\u001b[0m             \u001b[0;32mif\u001b[0m \u001b[0mself\u001b[0m\u001b[0;34m.\u001b[0m\u001b[0mcolumns\u001b[0m\u001b[0;34m.\u001b[0m\u001b[0mnlevels\u001b[0m \u001b[0;34m>\u001b[0m \u001b[0;36m1\u001b[0m\u001b[0;34m:\u001b[0m\u001b[0;34m\u001b[0m\u001b[0;34m\u001b[0m\u001b[0m\n\u001b[1;32m   3457\u001b[0m                 \u001b[0;32mreturn\u001b[0m \u001b[0mself\u001b[0m\u001b[0;34m.\u001b[0m\u001b[0m_getitem_multilevel\u001b[0m\u001b[0;34m(\u001b[0m\u001b[0mkey\u001b[0m\u001b[0;34m)\u001b[0m\u001b[0;34m\u001b[0m\u001b[0;34m\u001b[0m\u001b[0m\n\u001b[0;32m-> 3458\u001b[0;31m             \u001b[0mindexer\u001b[0m \u001b[0;34m=\u001b[0m \u001b[0mself\u001b[0m\u001b[0;34m.\u001b[0m\u001b[0mcolumns\u001b[0m\u001b[0;34m.\u001b[0m\u001b[0mget_loc\u001b[0m\u001b[0;34m(\u001b[0m\u001b[0mkey\u001b[0m\u001b[0;34m)\u001b[0m\u001b[0;34m\u001b[0m\u001b[0;34m\u001b[0m\u001b[0m\n\u001b[0m\u001b[1;32m   3459\u001b[0m             \u001b[0;32mif\u001b[0m \u001b[0mis_integer\u001b[0m\u001b[0;34m(\u001b[0m\u001b[0mindexer\u001b[0m\u001b[0;34m)\u001b[0m\u001b[0;34m:\u001b[0m\u001b[0;34m\u001b[0m\u001b[0;34m\u001b[0m\u001b[0m\n\u001b[1;32m   3460\u001b[0m                 \u001b[0mindexer\u001b[0m \u001b[0;34m=\u001b[0m \u001b[0;34m[\u001b[0m\u001b[0mindexer\u001b[0m\u001b[0;34m]\u001b[0m\u001b[0;34m\u001b[0m\u001b[0;34m\u001b[0m\u001b[0m\n",
            "\u001b[0;32m/usr/local/lib/python3.7/dist-packages/pandas/core/indexes/base.py\u001b[0m in \u001b[0;36mget_loc\u001b[0;34m(self, key, method, tolerance)\u001b[0m\n\u001b[1;32m   3361\u001b[0m                 \u001b[0;32mreturn\u001b[0m \u001b[0mself\u001b[0m\u001b[0;34m.\u001b[0m\u001b[0m_engine\u001b[0m\u001b[0;34m.\u001b[0m\u001b[0mget_loc\u001b[0m\u001b[0;34m(\u001b[0m\u001b[0mcasted_key\u001b[0m\u001b[0;34m)\u001b[0m\u001b[0;34m\u001b[0m\u001b[0;34m\u001b[0m\u001b[0m\n\u001b[1;32m   3362\u001b[0m             \u001b[0;32mexcept\u001b[0m \u001b[0mKeyError\u001b[0m \u001b[0;32mas\u001b[0m \u001b[0merr\u001b[0m\u001b[0;34m:\u001b[0m\u001b[0;34m\u001b[0m\u001b[0;34m\u001b[0m\u001b[0m\n\u001b[0;32m-> 3363\u001b[0;31m                 \u001b[0;32mraise\u001b[0m \u001b[0mKeyError\u001b[0m\u001b[0;34m(\u001b[0m\u001b[0mkey\u001b[0m\u001b[0;34m)\u001b[0m \u001b[0;32mfrom\u001b[0m \u001b[0merr\u001b[0m\u001b[0;34m\u001b[0m\u001b[0;34m\u001b[0m\u001b[0m\n\u001b[0m\u001b[1;32m   3364\u001b[0m \u001b[0;34m\u001b[0m\u001b[0m\n\u001b[1;32m   3365\u001b[0m         \u001b[0;32mif\u001b[0m \u001b[0mis_scalar\u001b[0m\u001b[0;34m(\u001b[0m\u001b[0mkey\u001b[0m\u001b[0;34m)\u001b[0m \u001b[0;32mand\u001b[0m \u001b[0misna\u001b[0m\u001b[0;34m(\u001b[0m\u001b[0mkey\u001b[0m\u001b[0;34m)\u001b[0m \u001b[0;32mand\u001b[0m \u001b[0;32mnot\u001b[0m \u001b[0mself\u001b[0m\u001b[0;34m.\u001b[0m\u001b[0mhasnans\u001b[0m\u001b[0;34m:\u001b[0m\u001b[0;34m\u001b[0m\u001b[0;34m\u001b[0m\u001b[0m\n",
            "\u001b[0;31mKeyError\u001b[0m: 'Percent in Poverty(NYS)'"
          ]
        }
      ]
    },
    {
      "cell_type": "code",
      "source": [
        "nys_total_pop = dfreg_markets['Total Population'].sum()\n",
        "\n",
        "dfreg_markets['Percent in Poverty(NYS)'] = (dfreg_markets['Number in Poverty']/nys_total_pop)*100\n",
        "\n",
        "dfreg_markets.groupby(['Region']).plot(kind='bar', y='Percent in Poverty(NYS)')\n",
        "dfreg_markets"
      ],
      "metadata": {
        "id": "_x9Z_9vGwmOi"
      },
      "execution_count": null,
      "outputs": []
    },
    {
      "cell_type": "code",
      "source": [
        "### Farmers Markets per County\n",
        "\n",
        "plt.figure(figsize=(10,14))\n",
        "plt.barh(dfmerge['County'],dfmerge['Farmers Market Count'])\n",
        "plt.xlabel('# of Farmers Markets', )\n",
        "plt.ylabel('Counties')\n",
        "plt.title('NYS Farmers Markets per County')\n",
        "\n",
        "plt.show()"
      ],
      "metadata": {
        "id": "rTOI88P7APpb"
      },
      "execution_count": null,
      "outputs": []
    },
    {
      "cell_type": "code",
      "source": [
        "# income bins\n",
        "\n",
        "\n",
        "\n",
        "\n",
        "plt.hist(dfreg_markets['Median Household Income'], bins=5)\n",
        "plt.show()\n",
        "\n",
        "\n",
        "below_mean = dfreg_markets[(dfreg_markets['Median Household Income'] <= dfreg_markets['Median Household Income'].mean() )]\n",
        "above_mean = dfreg_markets[(dfreg_markets['Median Household Income'] > dfreg_markets['Median Household Income'].mean() )]\n",
        "plt.hist(below_mean)\n",
        "# dfreg_markets['Median Household Income'].mean()"
      ],
      "metadata": {
        "id": "BWK40FTRtIFO"
      },
      "execution_count": null,
      "outputs": []
    }
  ]
}