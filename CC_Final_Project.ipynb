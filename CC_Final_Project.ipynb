{
  "nbformat": 4,
  "nbformat_minor": 0,
  "metadata": {
    "colab": {
      "name": "CC Final Project.ipynb",
      "provenance": [],
      "collapsed_sections": [],
      "authorship_tag": "ABX9TyON9NPdbNrMDnbo37MunLfX",
      "include_colab_link": true
    },
    "kernelspec": {
      "name": "python3",
      "display_name": "Python 3"
    },
    "language_info": {
      "name": "python"
    }
  },
  "cells": [
    {
      "cell_type": "markdown",
      "metadata": {
        "id": "view-in-github",
        "colab_type": "text"
      },
      "source": [
        "<a href=\"https://colab.research.google.com/github/teeloren/CC-Project/blob/main/CC_Final_Project.ipynb\" target=\"_parent\"><img src=\"https://colab.research.google.com/assets/colab-badge.svg\" alt=\"Open In Colab\"/></a>"
      ]
    },
    {
      "cell_type": "code",
      "execution_count": 1,
      "metadata": {
        "id": "LxAZtAh1FZTV"
      },
      "outputs": [],
      "source": [
        "import numpy as np\n",
        "import pandas as pd\n",
        "import matplotlib as plt\n",
        "import seaborn as sns"
      ]
    },
    {
      "cell_type": "code",
      "source": [
        "#open dataset(rows:1635, cols 24)\n",
        "df = pd.read_csv('https://raw.githubusercontent.com/teeloren/CC-Project/main/datasets/Broadband_Availability_By_Municipality.csv')\n",
        "\n",
        "#cleaning dataset \n",
        "print(df.isnull().values.any())\n",
        "print(df.duplicated().any())\n",
        "df.info()"
      ],
      "metadata": {
        "colab": {
          "base_uri": "https://localhost:8080/"
        },
        "id": "JD4Oje2tFbZN",
        "outputId": "62d06728-590f-4ce4-ffc4-ba2547d32c13"
      },
      "execution_count": 11,
      "outputs": [
        {
          "output_type": "stream",
          "name": "stdout",
          "text": [
            "True\n",
            "False\n",
            "<class 'pandas.core.frame.DataFrame'>\n",
            "RangeIndex: 1635 entries, 0 to 1634\n",
            "Data columns (total 24 columns):\n",
            " #   Column                   Non-Null Count  Dtype  \n",
            "---  ------                   --------------  -----  \n",
            " 0   GNIS ID                  1635 non-null   int64  \n",
            " 1   Municipality Name        1635 non-null   object \n",
            " 2   Municipality Type        1635 non-null   object \n",
            " 3   2010 Muni Population     1635 non-null   int64  \n",
            " 4   2010 Muni Housing Units  1635 non-null   int64  \n",
            " 5   Muni Area (sq mi)        1635 non-null   float64\n",
            " 6   County                   1634 non-null   object \n",
            " 7   REDC Region              1634 non-null   object \n",
            " 8   # Cable Providers        1635 non-null   int64  \n",
            " 9   # Hse Units Cable        1635 non-null   int64  \n",
            " 10  % Hse Units Cable        1635 non-null   int64  \n",
            " 11  # of DSL Providers       1635 non-null   int64  \n",
            " 12  # Hse Units DSL          1635 non-null   int64  \n",
            " 13  % Hse Units DSL          1635 non-null   int64  \n",
            " 14  # Fiber Providers        1635 non-null   int64  \n",
            " 15  # Hse Units Fiber        1635 non-null   int64  \n",
            " 16  % Hse Units Fiber        1635 non-null   int64  \n",
            " 17  # Wireline Providers     1635 non-null   int64  \n",
            " 18  # Hse Units Wireline     1635 non-null   int64  \n",
            " 19  % Hse Units Wireline     1635 non-null   int64  \n",
            " 20  # Wireless Providers     1635 non-null   int64  \n",
            " 21  # Hse Units Wireless     1635 non-null   int64  \n",
            " 22  % Hse Units Wireless     1635 non-null   int64  \n",
            " 23  # Satellite Providers    1635 non-null   int64  \n",
            "dtypes: float64(1), int64(19), object(4)\n",
            "memory usage: 306.7+ KB\n"
          ]
        }
      ]
    }
  ]
}